{
 "cells": [
  {
   "cell_type": "code",
   "execution_count": 5,
   "id": "cf6ad043",
   "metadata": {},
   "outputs": [],
   "source": [
    "# Declarando classe carro\n",
    "class Carro:\n",
    "    def __init__(self, marca, modelo, ano,):\n",
    "        self.marca = marca      \n",
    "        self.modelo = modelo    \n",
    "        self.ano = ano \n",
    "        self.cor = \"\"\n",
    "        self._garantia = True\n",
    "        self._ligado = False # usar _ <- para travar a variavel\n",
    "\n",
    "    def liga(self):\n",
    "        if self._ligado:\n",
    "            print(F\"[ERRO]->>Já está ligado \\n\")\n",
    "        else:\n",
    "            self._ligado\n",
    "            print(F\"\\t\\t [Sucesso]->>O carro está ligado !!!\")\n",
    "\n",
    "    def desligar(self): \n",
    "        if self._ligado:\n",
    "            self._ligado=False\n",
    "            print(F\"\\t\\t [ok] o carro foi Desligado !!!\")\n",
    "        else:\n",
    "            print(F\"\\n\\t [ERRO]->>já está Desligado \\n\") \n",
    "\n",
    "    def exibir_info(self):\n",
    "        if self._ligado:\n",
    "            status = \"Ligado\"\n",
    "        else:\n",
    "            status = \"Desligado\"  \n",
    "        print(F\"{self.marca} - {self.modelo} está {status}\")\n",
    "\n",
    "\n"
   ]
  },
  {
   "cell_type": "code",
   "execution_count": 6,
   "id": "6d66f97d",
   "metadata": {},
   "outputs": [],
   "source": [
    "meu_carro = Carro(\"WV\", \"GOL\", 2013)\n"
   ]
  },
  {
   "cell_type": "code",
   "execution_count": 7,
   "id": "3485b70d",
   "metadata": {},
   "outputs": [
    {
     "name": "stdout",
     "output_type": "stream",
     "text": [
      "WV - GOL está Desligado\n"
     ]
    }
   ],
   "source": [
    "meu_carro.exibir_info ()"
   ]
  },
  {
   "cell_type": "code",
   "execution_count": 9,
   "id": "ddb0aada",
   "metadata": {},
   "outputs": [
    {
     "name": "stdout",
     "output_type": "stream",
     "text": [
      "\n",
      "\t [ERRO]->>já está Desligado \n",
      "\n"
     ]
    }
   ],
   "source": [
    "meu_carro.desligar ()"
   ]
  },
  {
   "cell_type": "code",
   "execution_count": 12,
   "id": "d1301705",
   "metadata": {},
   "outputs": [
    {
     "name": "stdout",
     "output_type": "stream",
     "text": [
      "\t\t [Sucesso]->>O carro está ligado !!!\n"
     ]
    }
   ],
   "source": [
    "meu_carro.liga ()"
   ]
  }
 ],
 "metadata": {
  "kernelspec": {
   "display_name": "Python 3",
   "language": "python",
   "name": "python3"
  },
  "language_info": {
   "codemirror_mode": {
    "name": "ipython",
    "version": 3
   },
   "file_extension": ".py",
   "mimetype": "text/x-python",
   "name": "python",
   "nbconvert_exporter": "python",
   "pygments_lexer": "ipython3",
   "version": "3.10.5"
  }
 },
 "nbformat": 4,
 "nbformat_minor": 5
}
