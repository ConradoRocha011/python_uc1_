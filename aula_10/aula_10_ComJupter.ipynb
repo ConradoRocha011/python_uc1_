{
 "cells": [
  {
   "cell_type": "code",
   "execution_count": 1,
   "id": "c7bca7b0",
   "metadata": {},
   "outputs": [
    {
     "name": "stdout",
     "output_type": "stream",
     "text": [
      "32-80-30-44-70-25-75-\n",
      "01-75-41-85-61-73-95-\n",
      "99-64-45-90-18-55-20-\n",
      "30-90-34-74-34-65-96-\n"
     ]
    }
   ],
   "source": [
    "# Criando uma matriz 3x3\n",
    "import random \n",
    "\"\"\"\"\"\n",
    "matriz = [\n",
    "    [1, 2, 3],\n",
    "    [4, 5, 6],\n",
    "    [7, 8, 9]\n",
    "]\n",
    "\"\"\"\n",
    "#print(f\"{matriz}\")\n",
    "matriz_2 = []\n",
    "\n",
    "\n",
    "\n",
    "for i in range(4):\n",
    "    linha = []\n",
    "    for j in range (7):\n",
    "        #linha.appende(random.randint(0,100))\n",
    "        elemento = random.randint(0,100)\n",
    "        linha.append(elemento)\n",
    "    matriz_2.append(linha)\n",
    "\n",
    "\n",
    "#print(f\"{matriz_2[0]}\")\n",
    "\"\"\"\"\"\n",
    "for linha in matriz_2:\n",
    "    print(f\"{linha}\")\n",
    "\"\"\"\n",
    "for linha in matriz_2:\n",
    "    for valor in linha:\n",
    "        print(f\"{valor:02}\", end=\"-\")\n",
    "    print(f\"\")"
   ]
  },
  {
   "cell_type": "code",
   "execution_count": null,
   "id": "94f1c0bc",
   "metadata": {},
   "outputs": [
    {
     "name": "stdout",
     "output_type": "stream",
     "text": [
      "Elemento (0,0)->> 32\n",
      "Elemento (0,1)->> 80\n",
      "Elemento (0,2)->> 30\n",
      "Elemento (1,0)->> 01\n",
      "Elemento (1,1)->> 75\n",
      "Elemento (1,2)->> 41\n",
      "Elemento (2,0)->> 99\n",
      "Elemento (2,1)->> 64\n",
      "Elemento (2,2)->> 45\n"
     ]
    }
   ],
   "source": [
    "# Exemplo de se utilizar em outras limguagems\n",
    "for i in range(3):\n",
    "    for j in range(3):\n",
    "        print(f\"Elemento ({i},{j})->> {matriz_2[i][j]:02}\")"
   ]
  },
  {
   "cell_type": "code",
   "execution_count": null,
   "id": "f1473828",
   "metadata": {},
   "outputs": [
    {
     "name": "stdout",
     "output_type": "stream",
     "text": [
      "[[54.0, 99.0, 12.0, 74.0], [65.0, 45.0, 77.0, 87.0], [99.0, 1.0, 33.0, 26.0], [37.0, 98.0, 78.0, 64.0]]\n",
      "O maior valor da linha [54.0, 99.0, 12.0, 74.0] \n",
      "\t\t ->74.0<-\n",
      "O maior valor da linha [65.0, 45.0, 77.0, 87.0] \n",
      "\t\t ->87.0<-\n",
      "O maior valor da linha [99.0, 1.0, 33.0, 26.0] \n",
      "\t\t ->26.0<-\n",
      "O maior valor da linha [37.0, 98.0, 78.0, 64.0] \n",
      "\t\t ->64.0<-\n"
     ]
    }
   ],
   "source": [
    "#Copia do professor em sala\n",
    "matriz = []\n",
    "for i in range(4):\n",
    "    linha = []\n",
    "    for j in range(4):\n",
    "        valor = float(input(\"Digite um valor entre 0 e 99: \"))\n",
    "        linha.append(valor) \n",
    "    matriz.append(linha)\n",
    "print(f\"{matriz}\")\n",
    "\n",
    "for linha in matriz:\n",
    "    maior=0.0\n",
    "    for valor in linha:\n",
    "        if valor > maior:\n",
    "            maior = valor\n",
    "    print(f\"O maior valor da linha {linha} \\n\\t\\t ->{valor}<-\")        "
   ]
  },
  {
   "cell_type": "code",
   "execution_count": null,
   "id": "3f6922d5",
   "metadata": {},
   "outputs": [],
   "source": []
  }
 ],
 "metadata": {
  "kernelspec": {
   "display_name": "Python 3",
   "language": "python",
   "name": "python3"
  },
  "language_info": {
   "codemirror_mode": {
    "name": "ipython",
    "version": 3
   },
   "file_extension": ".py",
   "mimetype": "text/x-python",
   "name": "python",
   "nbconvert_exporter": "python",
   "pygments_lexer": "ipython3",
   "version": "3.10.5"
  }
 },
 "nbformat": 4,
 "nbformat_minor": 5
}
